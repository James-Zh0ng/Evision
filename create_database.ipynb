{
 "cells": [
  {
   "cell_type": "markdown",
   "metadata": {},
   "source": [
    "connect to the database"
   ]
  },
  {
   "cell_type": "code",
   "execution_count": 140,
   "metadata": {},
   "outputs": [],
   "source": [
    "import psycopg2\n",
    "import pandas as pd\n",
    "from sqlalchemy import create_engine\n",
    "\n",
    "# Define credentials and parameters\n",
    "HOST = \"localhost\"\n",
    "PORT = \"6543\"\n",
    "USER = \"postgres\"\n",
    "PASSWORD = \"postgres\"\n",
    "DBNAME = \"evision_01\"\n",
    "\n",
    "# Connect to PostgreSQL without a specific database\n",
    "connection = psycopg2.connect(\n",
    "    host=HOST, \n",
    "    port=PORT, \n",
    "    user=USER, \n",
    "    password=PASSWORD\n",
    ")\n",
    "connection.autocommit = True\n",
    "cursor = connection.cursor()\n",
    "\n",
    "# Check if the database exists, and if not, create it\n",
    "cursor.execute(\"SELECT datname FROM pg_database;\")\n",
    "db_list = [db[0] for db in cursor.fetchall()]\n",
    "\n",
    "if DBNAME not in db_list:\n",
    "    cursor.execute(f\"CREATE DATABASE {DBNAME};\")\n",
    "\n",
    "cursor.close()\n",
    "connection.close()\n",
    "\n",
    "# Create an SQLAlchemy engine for the \"Evision\" database\n",
    "engine_url = f'postgresql+psycopg2://{USER}:{PASSWORD}@{HOST}:{PORT}/{DBNAME}'\n",
    "engine = create_engine(engine_url)"
   ]
  },
  {
   "cell_type": "code",
   "execution_count": 175,
   "metadata": {},
   "outputs": [],
   "source": [
    "import os\n",
    "folder_name = 'data'"
   ]
  },
  {
   "cell_type": "markdown",
   "metadata": {},
   "source": [
    "create Token entity"
   ]
  },
  {
   "cell_type": "code",
   "execution_count": 176,
   "metadata": {},
   "outputs": [
    {
     "data": {
      "text/plain": [
       "14"
      ]
     },
     "execution_count": 176,
     "metadata": {},
     "output_type": "execute_result"
    }
   ],
   "source": [
    "import pandas as pd\n",
    "from sqlalchemy import create_engine, MetaData, Table, Column, String, Integer\n",
    "\n",
    "# Connect to the database\n",
    "metadata = MetaData()\n",
    "\n",
    "# Read the \"data/token.csv\" CSV file into a pandas DataFrame\n",
    "df = pd.read_csv(os.path.join(folder_name, 'token.csv'))\n",
    "\n",
    "# Define the Token table schema with 'token_address' as the primary key\n",
    "token = Table('Token', metadata,\n",
    "    Column('token_address', String, primary_key=True),\n",
    "    Column('decimals', Integer),\n",
    "    Column('logo', String),\n",
    "    Column('name', String),\n",
    "    Column('symbol', String)\n",
    ")\n",
    "\n",
    "# Drop the existing Token table if it exists, and then create a new one\n",
    "token.drop(engine, checkfirst=True)\n",
    "token.create(engine)\n",
    "\n",
    "# Populate the Token table using the DataFrame\n",
    "df.to_sql(\"Token\", engine, if_exists=\"append\", index=False)\n"
   ]
  },
  {
   "cell_type": "markdown",
   "metadata": {},
   "source": [
    "create User entity"
   ]
  },
  {
   "cell_type": "code",
   "execution_count": 177,
   "metadata": {},
   "outputs": [
    {
     "data": {
      "text/plain": [
       "616"
      ]
     },
     "execution_count": 177,
     "metadata": {},
     "output_type": "execute_result"
    }
   ],
   "source": [
    "import pandas as pd\n",
    "from sqlalchemy import create_engine, MetaData, Table, Column, String, PrimaryKeyConstraint\n",
    "\n",
    "# Connect to the database\n",
    "metadata = MetaData()\n",
    "\n",
    "# Read the \"data/user.csv\" CSV file into a pandas DataFrame\n",
    "df = pd.read_csv(os.path.join(folder_name, 'user.csv'))\n",
    "\n",
    "# Define the User table schema with 'ethereum_address' as the primary key\n",
    "user = Table('User', metadata,\n",
    "    Column('ethereum_address', String, primary_key=True)\n",
    ")\n",
    "\n",
    "# Drop the existing User table if it exists, and then create a new one\n",
    "user.drop(engine, checkfirst=True)\n",
    "user.create(engine)\n",
    "\n",
    "# Populate the User table using the DataFrame\n",
    "df.to_sql(\"User\", engine, if_exists=\"append\", index=False)\n"
   ]
  },
  {
   "cell_type": "markdown",
   "metadata": {},
   "source": [
    "create LiquidityPool entity"
   ]
  },
  {
   "cell_type": "code",
   "execution_count": 178,
   "metadata": {},
   "outputs": [
    {
     "data": {
      "text/plain": [
       "855"
      ]
     },
     "execution_count": 178,
     "metadata": {},
     "output_type": "execute_result"
    }
   ],
   "source": [
    "from sqlalchemy import create_engine, MetaData, Table, Column, String, Float, ForeignKey\n",
    "\n",
    "# 2. Define the LiquidityPool table schema with 'liquidity_pool_address' as the primary key\n",
    "liquidity_pool = Table('LiquidityPool', metadata,\n",
    "    Column('liquidity_pool_address', String, primary_key=True),\n",
    "    # Column('token0_address', String, ForeignKey('Token.token_address')),\n",
    "    # Column('token1_address', String, ForeignKey('Token.token_address')),\n",
    "    Column('token0_address', String),\n",
    "    Column('token1_address', String),\n",
    "    Column('sqrtPriceX96', Float),\n",
    "    Column('liquidity', Float)\n",
    ")\n",
    "\n",
    "# 3. Drop the existing LiquidityPool table if it exists\n",
    "liquidity_pool.drop(engine, checkfirst=True)\n",
    "\n",
    "# 4. Create the LiquidityPool table\n",
    "liquidity_pool.create(engine)\n",
    "\n",
    "# 5. Read the \"data/liquidity_pool.csv\" CSV file into a pandas DataFrame\n",
    "df = pd.read_csv(os.path.join(folder_name, 'liquidity_pool.csv'))\n",
    "\n",
    "# Populate the LiquidityPool table using the DataFrame\n",
    "df.to_sql(\"LiquidityPool\", engine, if_exists=\"append\", index=False)"
   ]
  },
  {
   "cell_type": "code",
   "execution_count": null,
   "metadata": {},
   "outputs": [],
   "source": [
    "from sqlalchemy import create_engine, MetaData, Table, Column, String, Float, ForeignKey\n",
    "\n",
    "# 2. Define the LiquidityPool table schema with 'liquidity_pool_address' as the primary key\n",
    "liquidity_pool = Table('LiquidityPool', metadata,\n",
    "    Column('liquidity_pool_address', String, primary_key=True),\n",
    "    # Column('token0_address', String, ForeignKey('Token.token_address')),\n",
    "    # Column('token1_address', String, ForeignKey('Token.token_address')),\n",
    "    Column('token0_address', String),\n",
    "    Column('token1_address', String),\n",
    "    Column('sqrtPriceX96', Float),\n",
    "    Column('liquidity', Float)\n",
    ")\n",
    "\n",
    "# 3. Drop the existing LiquidityPool table if it exists\n",
    "liquidity_pool.drop(engine, checkfirst=True)\n",
    "\n",
    "# 4. Create the LiquidityPool table\n",
    "liquidity_pool.create(engine)\n",
    "\n",
    "# 5. Read the \"data/liquidity_pool.csv\" CSV file into a pandas DataFrame\n",
    "df = pd.read_csv(os.path.join(folder_name, 'liquidity_pool.csv'))\n",
    "\n",
    "# Populate the LiquidityPool table using the DataFrame\n",
    "df.to_sql(\"LiquidityPool\", engine, if_exists=\"append\", index=False)"
   ]
  },
  {
   "cell_type": "markdown",
   "metadata": {},
   "source": [
    "create Swap associative entity."
   ]
  },
  {
   "cell_type": "code",
   "execution_count": 179,
   "metadata": {},
   "outputs": [
    {
     "data": {
      "text/plain": [
       "65"
      ]
     },
     "execution_count": 179,
     "metadata": {},
     "output_type": "execute_result"
    }
   ],
   "source": [
    "import pandas as pd\n",
    "from sqlalchemy import create_engine, MetaData, Table, Column, Integer, String, ForeignKey, BIGINT\n",
    "\n",
    "# Read the CSV file into a pandas DataFrame\n",
    "df = pd.read_csv(os.path.join(folder_name, 'uniswap-v3-swap.csv'))\n",
    "\n",
    "# Drop the 'block_number' column\n",
    "df = df.drop(columns=['block_number'])\n",
    "\n",
    "# Define the Swap table schema\n",
    "swap = Table('Swap', metadata,\n",
    "    Column('timestamp', String),\n",
    "    Column('tx_hash', String, primary_key=True),\n",
    "    Column('log_index', Integer),\n",
    "    Column('pool_contract_address', String, ForeignKey('LiquidityPool.liquidity_pool_address')),\n",
    "    Column('amount0', String),\n",
    "    Column('amount1', String),\n",
    "    Column('sqrt_price_x96', String),\n",
    "    Column('liquidity', String),\n",
    "    Column('tick', String),\n",
    "    Column('ethereum_address', String, ForeignKey('User.ethereum_address'))\n",
    ")\n",
    "\n",
    "swap.drop(engine, checkfirst=True)\n",
    "\n",
    "swap.create(engine)\n",
    "\n",
    "df.to_sql(\"Swap\", engine, if_exists=\"append\", index=False)"
   ]
  },
  {
   "cell_type": "markdown",
   "metadata": {},
   "source": [
    "create CreatePool entity."
   ]
  },
  {
   "cell_type": "code",
   "execution_count": 180,
   "metadata": {},
   "outputs": [
    {
     "data": {
      "text/plain": [
       "855"
      ]
     },
     "execution_count": 180,
     "metadata": {},
     "output_type": "execute_result"
    }
   ],
   "source": [
    "import pandas as pd\n",
    "from sqlalchemy import create_engine, MetaData, Table, Column, Integer, String, ForeignKey, BIGINT\n",
    "\n",
    "# Read the CSV file into a pandas DataFrame\n",
    "df = pd.read_csv(os.path.join(folder_name, 'uniswap-v3-poolcreated.csv'))\n",
    "\n",
    "# Drop the 'block_number' column\n",
    "df = df.drop(columns=['block_number', 'token0_symbol', 'token1_symbol'])\n",
    "df['pool_contract_address'] = df['pool_contract_address'].str.lower()\n",
    "\n",
    "# Define the Swap table schema\n",
    "CreatePool = Table('CreatePool', metadata,\n",
    "    Column('timestamp', String),\n",
    "    Column('tx_hash', String, primary_key=True),\n",
    "    Column('log_index', Integer),\n",
    "    Column('factory_contract_address', String),\n",
    "    Column('pool_contract_address', String, ForeignKey('LiquidityPool.liquidity_pool_address')),\n",
    "    Column('fee', Integer),\n",
    "    Column('token0_address', String),\n",
    "    Column('token1_address', String),\n",
    "    Column('ethereum_address', String, ForeignKey('User.ethereum_address'))\n",
    ")\n",
    "\n",
    "CreatePool.drop(engine, checkfirst=True)\n",
    "\n",
    "CreatePool.create(engine)\n",
    "\n",
    "df.to_sql(\"CreatePool\", engine, if_exists=\"append\", index=False)"
   ]
  },
  {
   "cell_type": "markdown",
   "metadata": {},
   "source": [
    "create mint entity"
   ]
  },
  {
   "cell_type": "code",
   "execution_count": 181,
   "metadata": {},
   "outputs": [
    {
     "data": {
      "text/plain": [
       "77"
      ]
     },
     "execution_count": 181,
     "metadata": {},
     "output_type": "execute_result"
    }
   ],
   "source": [
    "import pandas as pd\n",
    "from sqlalchemy import create_engine, MetaData, Table, Column, Integer, String, ForeignKey, BIGINT\n",
    "\n",
    "# Read the CSV file into a pandas DataFrame\n",
    "df = pd.read_csv(os.path.join(folder_name, 'uniswap-v3-mint.csv'))\n",
    "\n",
    "# Drop the 'block_number' column\n",
    "df = df.drop(columns=['block_number'])\n",
    "df['pool_contract_address'] = df['pool_contract_address'].str.lower()\n",
    "\n",
    "# Define the Swap table schema\n",
    "Mint = Table('Mint', metadata,\n",
    "    Column('timestamp', String),\n",
    "    Column('tx_hash', String, primary_key=True),\n",
    "    Column('log_index', Integer),\n",
    "    Column('pool_contract_address', String, ForeignKey('LiquidityPool.liquidity_pool_address')),\n",
    "    Column('tick_lower', String),\n",
    "    Column('tick_upper', String),\n",
    "    Column('amount', String),\n",
    "    Column('amount0', String),\n",
    "    Column('amount1', String),\n",
    "    Column('ethereum_address', String, ForeignKey('User.ethereum_address'))\n",
    ")\n",
    "\n",
    "Mint.drop(engine, checkfirst=True)\n",
    "\n",
    "Mint.create(engine)\n",
    "\n",
    "df.to_sql(\"Mint\", engine, if_exists=\"append\", index=False)"
   ]
  },
  {
   "cell_type": "markdown",
   "metadata": {},
   "source": [
    "create burn entity"
   ]
  },
  {
   "cell_type": "code",
   "execution_count": 182,
   "metadata": {},
   "outputs": [
    {
     "data": {
      "text/plain": [
       "619"
      ]
     },
     "execution_count": 182,
     "metadata": {},
     "output_type": "execute_result"
    }
   ],
   "source": [
    "import pandas as pd\n",
    "from sqlalchemy import create_engine, MetaData, Table, Column, Integer, String, ForeignKey, BIGINT\n",
    "\n",
    "# Read the CSV file into a pandas DataFrame\n",
    "df = pd.read_csv(os.path.join(folder_name, 'uniswap-v3-burn.csv'))\n",
    "\n",
    "# Drop the 'block_number' column\n",
    "df = df.drop(columns=['block_number'])\n",
    "df['pool_contract_address'] = df['pool_contract_address'].str.lower()\n",
    "\n",
    "# Define the Swap table schema\n",
    "Burn = Table('Burn', metadata,\n",
    "    Column('timestamp', String),\n",
    "    Column('tx_hash', String, primary_key=True),\n",
    "    Column('log_index', Integer),\n",
    "    Column('pool_contract_address', String, ForeignKey('LiquidityPool.liquidity_pool_address')),\n",
    "    Column('tick_lower', String),\n",
    "    Column('tick_upper', String),\n",
    "    Column('amount', String),\n",
    "    Column('amount0', String),\n",
    "    Column('amount1', String),\n",
    "    Column('ethereum_address', String, ForeignKey('User.ethereum_address'))\n",
    ")\n",
    "\n",
    "Burn.drop(engine, checkfirst=True)\n",
    "\n",
    "Burn.create(engine)\n",
    "\n",
    "df.to_sql(\"Burn\", engine, if_exists=\"append\", index=False)"
   ]
  },
  {
   "cell_type": "code",
   "execution_count": 183,
   "metadata": {},
   "outputs": [],
   "source": [
    "# CreatePool.drop(engine, checkfirst=True)\n",
    "# swap.drop(engine, checkfirst=True)\n",
    "# Burn.drop(engine, checkfirst=True)\n",
    "# Mint.drop(engine, checkfirst=True)"
   ]
  },
  {
   "cell_type": "code",
   "execution_count": null,
   "metadata": {},
   "outputs": [],
   "source": []
  }
 ],
 "metadata": {
  "kernelspec": {
   "display_name": "Python 3",
   "language": "python",
   "name": "python3"
  },
  "language_info": {
   "codemirror_mode": {
    "name": "ipython",
    "version": 3
   },
   "file_extension": ".py",
   "mimetype": "text/x-python",
   "name": "python",
   "nbconvert_exporter": "python",
   "pygments_lexer": "ipython3",
   "version": "3.10.13"
  }
 },
 "nbformat": 4,
 "nbformat_minor": 2
}
